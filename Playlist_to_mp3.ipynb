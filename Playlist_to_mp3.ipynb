{
 "cells": [
  {
   "cell_type": "code",
   "execution_count": 23,
   "metadata": {},
   "outputs": [
    {
     "name": "stdout",
     "output_type": "stream",
     "text": [
      "Collecting git+https://github.com/pytube/pytube\n",
      "  Cloning https://github.com/pytube/pytube to /private/var/folders/6d/2nx4lnh53q93x4dnnqysssnh0000gn/T/pip-req-build-ezgq2rqt\n",
      "  Running command git clone --filter=blob:none --quiet https://github.com/pytube/pytube /private/var/folders/6d/2nx4lnh53q93x4dnnqysssnh0000gn/T/pip-req-build-ezgq2rqt\n",
      "  Resolved https://github.com/pytube/pytube to commit a32fff39058a6f7e5e59ecd06a7467b71197ce35\n",
      "  Preparing metadata (setup.py) ... \u001b[?25ldone\n",
      "\u001b[?25h"
     ]
    }
   ],
   "source": [
    "!pip install git+https://github.com/pytube/pytube"
   ]
  },
  {
   "cell_type": "code",
   "execution_count": 27,
   "metadata": {},
   "outputs": [
    {
     "name": "stdout",
     "output_type": "stream",
     "text": [
      "Collecting pytubefix\n",
      "  Downloading pytubefix-9.2.1-py3-none-any.whl.metadata (5.3 kB)\n",
      "Downloading pytubefix-9.2.1-py3-none-any.whl (758 kB)\n",
      "\u001b[2K   \u001b[90m━━━━━━━━━━━━━━━━━━━━━━━━━━━━━━━━━━━━━━━━\u001b[0m \u001b[32m758.5/758.5 kB\u001b[0m \u001b[31m6.3 MB/s\u001b[0m eta \u001b[36m0:00:00\u001b[0m\n",
      "\u001b[?25hInstalling collected packages: pytubefix\n",
      "Successfully installed pytubefix-9.2.1\n"
     ]
    }
   ],
   "source": [
    "!pip install pytubefix"
   ]
  },
  {
   "cell_type": "code",
   "execution_count": null,
   "metadata": {},
   "outputs": [],
   "source": [
    "import os\n",
    "import re\n",
    "import shutil\n",
    "import subprocess\n",
    "from pytubefix import Playlist, YouTube\n",
    "\n",
    "def sanitize_filename(name):\n",
    "    \"\"\"Remove or replace unsafe characters from filenames.\"\"\"\n",
    "    return re.sub(r'[\\\\/*?:\"<>|]', \"_\", name).replace(\" \", \"\")\n",
    "\n",
    "def run(pl):\n",
    "    # Input destination folder\n",
    "    filepath = input(\"Downloads destination (optional): \").strip()\n",
    "    if filepath == \"\":\n",
    "        filepath = os.path.expanduser(\"~/Downloads/music\")\n",
    "    else:\n",
    "        filepath = os.path.expanduser(filepath)\n",
    "\n",
    "    # Create output directory if it doesn't exist\n",
    "    os.makedirs(filepath, exist_ok=True)\n",
    "\n",
    "    # Get video links from playlist\n",
    "    links = pl.video_urls\n",
    "\n",
    "    for link in links:\n",
    "        try:\n",
    "            os.system(\"clear\" if os.name == \"posix\" else \"cls\")\n",
    "\n",
    "            yt = YouTube(link)\n",
    "            music = yt.streams.filter(file_extension=\"mp4\").first()\n",
    "\n",
    "            if music is None:\n",
    "                print(f\"No mp4 stream found for: {yt.title}\")\n",
    "                continue\n",
    "\n",
    "            raw_filename = music.default_filename\n",
    "            safe_filename = sanitize_filename(raw_filename)\n",
    "            mp3_filename = safe_filename.replace(\".mp4\", \".mp3\")\n",
    "\n",
    "            print(f\"Downloading {yt.title}...\")\n",
    "\n",
    "            # Download with safe filename\n",
    "            music.download(filename=safe_filename)\n",
    "\n",
    "            print(\"Converting to mp3...\")\n",
    "\n",
    "            # Convert to mp3 using ffmpeg\n",
    "            try:\n",
    "                subprocess.run(\n",
    "                    [\"ffmpeg\", \"-i\", safe_filename, mp3_filename],\n",
    "                    check=True,\n",
    "                    stdout=subprocess.DEVNULL,\n",
    "                    stderr=subprocess.DEVNULL,\n",
    "                )\n",
    "            except subprocess.CalledProcessError:\n",
    "                print(f\"ffmpeg conversion failed for {raw_filename}\")\n",
    "                os.remove(safe_filename)\n",
    "                continue\n",
    "\n",
    "            # Move mp3 to destination\n",
    "            shutil.move(mp3_filename, os.path.join(filepath, mp3_filename))\n",
    "\n",
    "            # Remove original mp4\n",
    "            os.remove(safe_filename)\n",
    "\n",
    "            print(f\"Done: {yt.title}\\n\")\n",
    "\n",
    "        except Exception as e:\n",
    "            print(f\"Failed to load video: {link}\\nError: {e}\")\n",
    "\n",
    "    print(\"Download finished.\")\n",
    "\n",
    "if __name__ == \"__main__\":\n",
    "    url = input(\"Enter the playlist URL: \").strip()\n",
    "    pl = Playlist(url)\n",
    "    run(pl)\n"
   ]
  }
 ],
 "metadata": {
  "colab": {
   "provenance": []
  },
  "kernelspec": {
   "display_name": "Python 3 (ipykernel)",
   "language": "python",
   "name": "python3"
  },
  "language_info": {
   "codemirror_mode": {
    "name": "ipython",
    "version": 3
   },
   "file_extension": ".py",
   "mimetype": "text/x-python",
   "name": "python",
   "nbconvert_exporter": "python",
   "pygments_lexer": "ipython3",
   "version": "3.12.7"
  }
 },
 "nbformat": 4,
 "nbformat_minor": 4
}
